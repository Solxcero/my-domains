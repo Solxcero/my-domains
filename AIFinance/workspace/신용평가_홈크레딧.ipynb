{
 "cells": [
  {
   "cell_type": "markdown",
   "id": "9f6aca1f",
   "metadata": {},
   "source": [
    "캐글 링크 [https://www.kaggle.com/competitions/home-credit-credit-risk-model-stability/data](https://www.kaggle.com/competitions/home-credit-credit-risk-model-stability/data)"
   ]
  },
  {
   "cell_type": "markdown",
   "id": "31ab1af9",
   "metadata": {},
   "source": [
    "### 대회개요\n",
    "2024년에 홈 크레딧 경진대회 데이터. \n",
    "실제 금융 데이터에 매우 가깝게 익명화된 데이터 제공  "
   ]
  }
 ],
 "metadata": {
  "language_info": {
   "name": "python"
  }
 },
 "nbformat": 4,
 "nbformat_minor": 5
}
