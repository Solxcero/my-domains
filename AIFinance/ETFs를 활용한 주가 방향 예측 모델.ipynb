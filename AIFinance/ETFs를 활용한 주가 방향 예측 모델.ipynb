{
 "cells": [
  {
   "cell_type": "markdown",
   "id": "e3638412",
   "metadata": {},
   "source": [
    "[kaggle_url](https://www.kaggle.com/code/linakeepgoing/2-etfs/notebook)"
   ]
  },
  {
   "cell_type": "code",
   "execution_count": null,
   "id": "e746b6f9",
   "metadata": {},
   "outputs": [],
   "source": [
    "# import kagglehub\n",
    "\n",
    "# # Download latest version\n",
    "# path = kagglehub.dataset_download(\"linakeepgoing/etfs-main\")\n",
    "\n",
    "# print(\"Path to dataset files:\", path)"
   ]
  },
  {
   "cell_type": "markdown",
   "id": "f473ea0a",
   "metadata": {},
   "source": [
    "`A 트레이더` : 주가의 움직임을 중시하며, 이동평균, RSI와 같은 기술 지표를 활용.  \n",
    "`B 트레이더` : 소비자 물가, 금리 등 거시경제 지표를 기반으로 투자 의사결정.  \n",
    "`C 트레이더` : 금, 달러 등 다양한 자산 간의 상관관계에 초점을 맞추어 트레이딩."
   ]
  },
  {
   "cell_type": "markdown",
   "id": "bde6c71a",
   "metadata": {},
   "source": [
    "> ETFs 데이터를 설명 변수로 사용하는 이유\n",
    "1. ETF는 다양한 자산을 포함하는 펀드로서, 단일 주식이나 자산에 비해 시장의 광범위한 동향을 더 잘 포착한다. 이는 개별 주식의 특정 리스크를 줄이고, 전체 시장 또는 특정 섹터의 평균적인 성과를 추적하는 데 유용.\n",
    "2. 거시경제 지표 대신 ETF 데이터를 선택하는 주된 이유는 실시간성과 접근성. 거시경제 지표는 발표가 지연되거나 때때로 수정될 수 있는 반면, ETF는 거래소에서 실시간으로 거래되어 시장의 현재 상태를 더 정확히 반영. "
   ]
  },
  {
   "cell_type": "code",
   "execution_count": null,
   "id": "4bac4ea7",
   "metadata": {},
   "outputs": [],
   "source": [
    "# 1. Librarys\n",
    "import warnings\n",
    "import glob\n",
    "import os\n",
    "import datetime\n",
    "import matplotlib.pyplot as plt\n",
    "import pandas as pd\n",
    "import numpy as np\n",
    "from sklearn import preprocessing\n",
    "from sklearn.preprocessing import StandardScaler\n",
    "from sklearn.model_selection import train_test_split\n",
    "from sklearn.model_selection import cross_validate\n",
    "from sklearn.model_selection import TimeSeriesSplit\n",
    "from sklearn.model_selection import GridSearchCV\n",
    "from sklearn.linear_model import LinearRegression\n",
    "from sklearn.ensemble import RandomForestClassifier\n",
    "from xgboost import XGBClassifier\n",
    "from xgboost import plot_importance\n",
    "from sklearn.metrics import f1_score\n",
    "from sklearn.metrics import mean_squared_error, r2_score\n",
    "from sklearn.metrics import accuracy_score\n",
    "from sklearn.metrics import confusion_matrix, accuracy_score, precision_score, recall_score, f1_score, roc_auc_score\n",
    "from sklearn import svm\n",
    "import seaborn as sns; sns.set_theme()"
   ]
  },
  {
   "cell_type": "code",
   "execution_count": null,
   "id": "1a36b4c4",
   "metadata": {},
   "outputs": [
    {
     "data": {
      "text/html": [
       "<div>\n",
       "<style scoped>\n",
       "    .dataframe tbody tr th:only-of-type {\n",
       "        vertical-align: middle;\n",
       "    }\n",
       "\n",
       "    .dataframe tbody tr th {\n",
       "        vertical-align: top;\n",
       "    }\n",
       "\n",
       "    .dataframe thead th {\n",
       "        text-align: right;\n",
       "    }\n",
       "</style>\n",
       "<table border=\"1\" class=\"dataframe\">\n",
       "  <thead>\n",
       "    <tr style=\"text-align: right;\">\n",
       "      <th></th>\n",
       "      <th>Dates</th>\n",
       "      <th>CLOSE_SPY</th>\n",
       "      <th>OPEN</th>\n",
       "      <th>HIGH</th>\n",
       "      <th>LOW</th>\n",
       "      <th>VOLUME</th>\n",
       "      <th>CLOSE_GLD</th>\n",
       "      <th>CLOSE_FXY</th>\n",
       "      <th>CLOSE_T10Y2Y</th>\n",
       "      <th>CLOSE_TED</th>\n",
       "      <th>CLOSE_USO</th>\n",
       "      <th>CLOSE_UUP</th>\n",
       "      <th>CLOSE_VIX</th>\n",
       "      <th>CLOSE_VWO</th>\n",
       "    </tr>\n",
       "  </thead>\n",
       "  <tbody>\n",
       "    <tr>\n",
       "      <th>0</th>\n",
       "      <td>2007-02-20</td>\n",
       "      <td>146.04</td>\n",
       "      <td>145.56</td>\n",
       "      <td>146.20</td>\n",
       "      <td>144.0</td>\n",
       "      <td>56909500.0</td>\n",
       "      <td>65.31</td>\n",
       "      <td>83.51</td>\n",
       "      <td>2.3263</td>\n",
       "      <td>0.31</td>\n",
       "      <td>48.67</td>\n",
       "      <td>25.07</td>\n",
       "      <td>10.24</td>\n",
       "      <td>40.055</td>\n",
       "    </tr>\n",
       "    <tr>\n",
       "      <th>1</th>\n",
       "      <td>2007-02-21</td>\n",
       "      <td>145.98</td>\n",
       "      <td>145.61</td>\n",
       "      <td>146.07</td>\n",
       "      <td>145.0</td>\n",
       "      <td>63971500.0</td>\n",
       "      <td>67.28</td>\n",
       "      <td>82.90</td>\n",
       "      <td>2.3653</td>\n",
       "      <td>0.32</td>\n",
       "      <td>49.86</td>\n",
       "      <td>25.12</td>\n",
       "      <td>10.20</td>\n",
       "      <td>39.975</td>\n",
       "    </tr>\n",
       "    <tr>\n",
       "      <th>2</th>\n",
       "      <td>2007-02-22</td>\n",
       "      <td>145.87</td>\n",
       "      <td>146.05</td>\n",
       "      <td>146.42</td>\n",
       "      <td>145.0</td>\n",
       "      <td>79067398.0</td>\n",
       "      <td>67.15</td>\n",
       "      <td>82.46</td>\n",
       "      <td>2.3871</td>\n",
       "      <td>0.31</td>\n",
       "      <td>50.33</td>\n",
       "      <td>25.12</td>\n",
       "      <td>10.18</td>\n",
       "      <td>40.220</td>\n",
       "    </tr>\n",
       "  </tbody>\n",
       "</table>\n",
       "</div>"
      ],
      "text/plain": [
       "        Dates  CLOSE_SPY    OPEN    HIGH    LOW      VOLUME  CLOSE_GLD  \\\n",
       "0  2007-02-20     146.04  145.56  146.20  144.0  56909500.0      65.31   \n",
       "1  2007-02-21     145.98  145.61  146.07  145.0  63971500.0      67.28   \n",
       "2  2007-02-22     145.87  146.05  146.42  145.0  79067398.0      67.15   \n",
       "\n",
       "   CLOSE_FXY  CLOSE_T10Y2Y  CLOSE_TED  CLOSE_USO  CLOSE_UUP  CLOSE_VIX  \\\n",
       "0      83.51        2.3263       0.31      48.67      25.07      10.24   \n",
       "1      82.90        2.3653       0.32      49.86      25.12      10.20   \n",
       "2      82.46        2.3871       0.31      50.33      25.12      10.18   \n",
       "\n",
       "   CLOSE_VWO  \n",
       "0     40.055  \n",
       "1     39.975  \n",
       "2     40.220  "
      ]
     },
     "execution_count": 9,
     "metadata": {},
     "output_type": "execute_result"
    }
   ],
   "source": [
    "# 2. ETFs_main.csv 데이터 로드\n",
    "df = pd.read_csv('./data/ETFs_main.csv')\n",
    "df.head(3)"
   ]
  },
  {
   "cell_type": "code",
   "execution_count": null,
   "id": "7ac80aff",
   "metadata": {},
   "outputs": [],
   "source": [
    "# 3. 기술적 지표 만들기\n",
    "def moving_average(df, n):\n",
    "    MA = pd.Series(df['CLOSE_SPY'].rolling(n, min_periods=n).mean(), name='MA_' + str(n))\n",
    "    df = df.join(MA)\n",
    "    return df\n",
    "\n",
    "def volume_moving_average(df, n):\n",
    "    VMA = pd.Series(df['VOLUME'].rolling(n, min_periods=n).mean(), name='VMA_' + str(n))\n",
    "    df = df.join(VMA)\n",
    "    return df\n",
    "\n",
    "def relative_strength_index(df, n):\n",
    "    \"\"\"\n",
    "    RSI 계산\n",
    "    0 < RSI < 100 \n",
    "    RSI > 70 : 과매수 상태\n",
    "    RSI < 30 : 과매도 상태 \n",
    "    \"\"\"\n",
    "    delta = df['CLOSE_SPY'].diff()\n",
    "    gain = (delta.where(delta > 0, 0)).rolling(window=n).mean()\n",
    "    loss = (-delta.where(delta < 0, 0)).rolling(window=n).mean()\n",
    "    RS = gain / loss\n",
    "    RSI = 100 - (100 / (1 + RS))\n",
    "    RSI.name = 'RSI_' + str(n)\n",
    "    df = df.join(RSI)\n",
    "    return df"
   ]
  },
  {
   "cell_type": "code",
   "execution_count": null,
   "id": "92bd1c34",
   "metadata": {},
   "outputs": [
    {
     "name": "stdout",
     "output_type": "stream",
     "text": [
      "2727\n"
     ]
    }
   ],
   "source": [
    "# 4. 기술 지표 적용\n",
    "df = moving_average(df, 45) # 실제 경과 일수는 60일이지만, 영업일 기준인 45일로 작성\n",
    "df = volume_moving_average(df, 45)\n",
    "df = relative_strength_index(df, 14) # 시장강도 지수는 보통 14일이나 21일 사용 \n",
    "\n",
    "# 'Dates' 열을 인덱스로 설정\n",
    "df = df.set_index('Dates')\n",
    "df = df.dropna()\n",
    "print(len(df))"
   ]
  },
  {
   "cell_type": "code",
   "execution_count": 16,
   "id": "fc473621",
   "metadata": {},
   "outputs": [
    {
     "name": "stdout",
     "output_type": "stream",
     "text": [
      "target\n",
      "1    1471\n",
      "0    1256\n",
      "Name: count, dtype: int64\n"
     ]
    }
   ],
   "source": [
    "# 5. target 변수  \n",
    "\n",
    "# 타겟 변수 생성 (pct_change)\n",
    "df['pct_change'] = df['CLOSE_SPY'].pct_change()\n",
    "\n",
    "# 모델링을 위한 이진 분류 값 생성\n",
    "df['target'] = np.where(df['pct_change'] > 0, 1, 0)\n",
    "df = df.dropna(subset=['target'])  # 결측값 제거\n",
    "\n",
    "# 정수형 변환\n",
    "df['target'] = df['target'].astype(np.int64)\n",
    "\n",
    "print(df['target'].value_counts())"
   ]
  },
  {
   "cell_type": "code",
   "execution_count": 17,
   "id": "3da911ee",
   "metadata": {},
   "outputs": [
    {
     "name": "stdout",
     "output_type": "stream",
     "text": [
      "2725\n"
     ]
    }
   ],
   "source": [
    "# 6. 다음날 예측을 위해 타겟 변수를 shift\n",
    "df['target'] = df['target'].shift(-1)\n",
    "df = df.dropna()\n",
    "print(len(df))"
   ]
  },
  {
   "cell_type": "code",
   "execution_count": 18,
   "id": "d40f9bcc",
   "metadata": {},
   "outputs": [],
   "source": [
    "# 7. 설명 변수와 타겟 변수 분리\n",
    "y_var = df['target']\n",
    "x_var = df.drop(['target', 'OPEN', 'HIGH', 'LOW', 'VOLUME', 'CLOSE_SPY', 'pct_change'], axis=1)"
   ]
  },
  {
   "cell_type": "code",
   "execution_count": 19,
   "id": "2c3c5a83",
   "metadata": {},
   "outputs": [
    {
     "name": "stdout",
     "output_type": "stream",
     "text": [
      "up/down ratio: 0.54\n"
     ]
    }
   ],
   "source": [
    "# 8. 상승과 하락 비율 확인\n",
    "up = df[df['target'] == 1].target.count()\n",
    "total = df.target.count()\n",
    "print('up/down ratio: {0:.2f}'.format(up / total))"
   ]
  },
  {
   "cell_type": "code",
   "execution_count": 20,
   "id": "2ce1e7fc",
   "metadata": {},
   "outputs": [
    {
     "name": "stdout",
     "output_type": "stream",
     "text": [
      "train set label ratio\n",
      "target\n",
      "1.0    0.543786\n",
      "0.0    0.456214\n",
      "Name: count, dtype: float64\n",
      "test set label ratio\n",
      "target\n",
      "1.0    0.530562\n",
      "0.0    0.469438\n",
      "Name: count, dtype: float64\n"
     ]
    }
   ],
   "source": [
    "# 9. 훈련셋과 테스트셋 분할\n",
    "X_train, X_test, y_train, y_test = train_test_split(x_var, y_var, test_size=0.3, shuffle=False, random_state=3)\n",
    "\n",
    "# 훈련셋과 테스트셋의 양성 샘플 비율 확인\n",
    "train_count = y_train.count()\n",
    "test_count = y_test.count()\n",
    "\n",
    "print('train set label ratio')\n",
    "print(y_train.value_counts() / train_count)\n",
    "print('test set label ratio')\n",
    "print(y_test.value_counts() / test_count)"
   ]
  },
  {
   "cell_type": "code",
   "execution_count": 21,
   "id": "0fd0146c",
   "metadata": {},
   "outputs": [
    {
     "data": {
      "text/html": [
       "<div>\n",
       "<style scoped>\n",
       "    .dataframe tbody tr th:only-of-type {\n",
       "        vertical-align: middle;\n",
       "    }\n",
       "\n",
       "    .dataframe tbody tr th {\n",
       "        vertical-align: top;\n",
       "    }\n",
       "\n",
       "    .dataframe thead th {\n",
       "        text-align: right;\n",
       "    }\n",
       "</style>\n",
       "<table border=\"1\" class=\"dataframe\">\n",
       "  <thead>\n",
       "    <tr style=\"text-align: right;\">\n",
       "      <th></th>\n",
       "      <th>CLOSE_GLD</th>\n",
       "      <th>CLOSE_FXY</th>\n",
       "      <th>CLOSE_T10Y2Y</th>\n",
       "      <th>CLOSE_TED</th>\n",
       "      <th>CLOSE_USO</th>\n",
       "      <th>CLOSE_UUP</th>\n",
       "      <th>CLOSE_VIX</th>\n",
       "      <th>CLOSE_VWO</th>\n",
       "      <th>MA_45</th>\n",
       "      <th>VMA_45</th>\n",
       "      <th>RSI_14</th>\n",
       "    </tr>\n",
       "    <tr>\n",
       "      <th>Dates</th>\n",
       "      <th></th>\n",
       "      <th></th>\n",
       "      <th></th>\n",
       "      <th></th>\n",
       "      <th></th>\n",
       "      <th></th>\n",
       "      <th></th>\n",
       "      <th></th>\n",
       "      <th></th>\n",
       "      <th></th>\n",
       "      <th></th>\n",
       "    </tr>\n",
       "  </thead>\n",
       "  <tbody>\n",
       "    <tr>\n",
       "      <th>2007-04-30</th>\n",
       "      <td>67.09</td>\n",
       "      <td>83.7166</td>\n",
       "      <td>2.4361</td>\n",
       "      <td>0.57</td>\n",
       "      <td>51.24</td>\n",
       "      <td>24.49</td>\n",
       "      <td>14.22</td>\n",
       "      <td>40.935</td>\n",
       "      <td>143.601556</td>\n",
       "      <td>1.116466e+08</td>\n",
       "      <td>70.956720</td>\n",
       "    </tr>\n",
       "    <tr>\n",
       "      <th>2007-05-02</th>\n",
       "      <td>66.66</td>\n",
       "      <td>83.3800</td>\n",
       "      <td>2.4366</td>\n",
       "      <td>0.59</td>\n",
       "      <td>49.59</td>\n",
       "      <td>24.66</td>\n",
       "      <td>13.08</td>\n",
       "      <td>42.020</td>\n",
       "      <td>143.680667</td>\n",
       "      <td>1.121613e+08</td>\n",
       "      <td>79.237288</td>\n",
       "    </tr>\n",
       "    <tr>\n",
       "      <th>2007-05-03</th>\n",
       "      <td>67.49</td>\n",
       "      <td>83.1100</td>\n",
       "      <td>2.4346</td>\n",
       "      <td>0.60</td>\n",
       "      <td>49.28</td>\n",
       "      <td>24.69</td>\n",
       "      <td>13.09</td>\n",
       "      <td>42.435</td>\n",
       "      <td>143.780222</td>\n",
       "      <td>1.123421e+08</td>\n",
       "      <td>79.604579</td>\n",
       "    </tr>\n",
       "  </tbody>\n",
       "</table>\n",
       "</div>"
      ],
      "text/plain": [
       "            CLOSE_GLD  CLOSE_FXY  CLOSE_T10Y2Y  CLOSE_TED  CLOSE_USO  \\\n",
       "Dates                                                                  \n",
       "2007-04-30      67.09    83.7166        2.4361       0.57      51.24   \n",
       "2007-05-02      66.66    83.3800        2.4366       0.59      49.59   \n",
       "2007-05-03      67.49    83.1100        2.4346       0.60      49.28   \n",
       "\n",
       "            CLOSE_UUP  CLOSE_VIX  CLOSE_VWO       MA_45        VMA_45  \\\n",
       "Dates                                                                   \n",
       "2007-04-30      24.49      14.22     40.935  143.601556  1.116466e+08   \n",
       "2007-05-02      24.66      13.08     42.020  143.680667  1.121613e+08   \n",
       "2007-05-03      24.69      13.09     42.435  143.780222  1.123421e+08   \n",
       "\n",
       "               RSI_14  \n",
       "Dates                  \n",
       "2007-04-30  70.956720  \n",
       "2007-05-02  79.237288  \n",
       "2007-05-03  79.604579  "
      ]
     },
     "execution_count": 21,
     "metadata": {},
     "output_type": "execute_result"
    }
   ],
   "source": [
    "x_var.head(3 )"
   ]
  },
  {
   "cell_type": "code",
   "execution_count": 22,
   "id": "1e360eaf",
   "metadata": {},
   "outputs": [],
   "source": [
    "# 10. 혼동 행렬 및 성능 평가 함수\n",
    "def get_confusion_matrix(y_test, pred):\n",
    "    confusion = confusion_matrix(y_test, pred)\n",
    "    accuracy = accuracy_score(y_test, pred)\n",
    "    precision = precision_score(y_test, pred)\n",
    "    recall = recall_score(y_test, pred)\n",
    "    f1 = f1_score(y_test, pred)\n",
    "    roc_score = roc_auc_score(y_test, pred)\n",
    "    print('confusion matrix')\n",
    "    print(confusion)\n",
    "    print('accuracy: {0:.4f}, precision: {1:.4f}, recall: {2:.4f}, F1: {3:.4f}, ROC AUC score: {4:.4f}'.format(\n",
    "        accuracy, precision, recall, f1, roc_score))"
   ]
  },
  {
   "cell_type": "code",
   "execution_count": 23,
   "id": "2b6614a2",
   "metadata": {},
   "outputs": [
    {
     "name": "stdout",
     "output_type": "stream",
     "text": [
      "0.8479286837965391\n",
      "confusion matrix\n",
      "[[333  51]\n",
      " [358  76]]\n",
      "accuracy: 0.5000, precision: 0.5984, recall: 0.1751, F1: 0.2709, ROC AUC score: 0.5212\n"
     ]
    }
   ],
   "source": [
    "# 11. 모델 학습 및 평가\n",
    "# XGBoost 모델 학습 및 예측\n",
    "xgb_dis = XGBClassifier(n_estimators=400, learning_rate=0.1, max_depth=3)\n",
    "xgb_dis.fit(X_train, y_train)\n",
    "xgb_pred = xgb_dis.predict(X_test)\n",
    "\n",
    "# 훈련 정확도 확인\n",
    "print(xgb_dis.score(X_train, y_train))\n",
    "\n",
    "# 성능 평가\n",
    "get_confusion_matrix(y_test, xgb_pred)"
   ]
  },
  {
   "cell_type": "code",
   "execution_count": null,
   "id": "799913d4",
   "metadata": {},
   "outputs": [],
   "source": [
    "# 12. 랜덤 포레스트 매개변수 설정\n",
    "n_estimators = range(10, 200, 10)\n",
    "params = {\n",
    "    'bootstrap': [True],\n",
    "    'n_estimators': n_estimators,\n",
    "    'max_depth': [4, 6, 8, 10, 12],\n",
    "    'min_samples_leaf': [2, 3, 4, 5],\n",
    "    'min_samples_split': [2, 4, 6, 8, 10],\n",
    "    'max_features': [4]\n",
    "}\n",
    "\n",
    "# 교차 검증 설정\n",
    "my_cv = TimeSeriesSplit(n_splits=5).split(X_train)\n",
    "\n",
    "# GridSearchCV를 사용한 모델 학습\n",
    "clf = GridSearchCV(RandomForestClassifier(), params, cv=my_cv, n_jobs=-1)\n",
    "clf.fit(X_train, y_train)\n",
    "\n",
    "# 최적의 매개변수와 정확도 출력\n",
    "print('best parameter:\\n', clf.best_params_)\n",
    "print('best prediction: {0:.4f}'.format(clf.best_score_))"
   ]
  },
  {
   "cell_type": "code",
   "execution_count": null,
   "id": "5bcec84d",
   "metadata": {},
   "outputs": [],
   "source": [
    "# 13. 테스트셋에서의 성능 확인\n",
    "pred_con = clf.predict(X_test)\n",
    "accuracy_con = accuracy_score(y_test, pred_con)\n",
    "print('accuracy: {0:.4f}'.format(accuracy_con))\n",
    "get_confusion_matrix(y_test, pred_con)"
   ]
  },
  {
   "cell_type": "code",
   "execution_count": null,
   "id": "9c1c1bd8",
   "metadata": {},
   "outputs": [],
   "source": [
    "# 14. 타겟 변수 통계 확인\n",
    "df['pct_change'].describe()"
   ]
  }
 ],
 "metadata": {
  "kernelspec": {
   "display_name": "Python 3",
   "language": "python",
   "name": "python3"
  },
  "language_info": {
   "codemirror_mode": {
    "name": "ipython",
    "version": 3
   },
   "file_extension": ".py",
   "mimetype": "text/x-python",
   "name": "python",
   "nbconvert_exporter": "python",
   "pygments_lexer": "ipython3",
   "version": "3.11.5"
  }
 },
 "nbformat": 4,
 "nbformat_minor": 5
}
