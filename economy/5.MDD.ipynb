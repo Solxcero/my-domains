{
 "cells": [
  {
   "cell_type": "code",
   "execution_count": 1,
   "metadata": {},
   "outputs": [],
   "source": [
    "# 1. Library 호출\n",
    "from pykrx import stock                     # 주가정보 호출 라이브러리\n",
    "from scipy.stats.mstats import winsorize    # 전처리 : 이상치처리\n",
    "import scipy.stats as ss                    # 전처리 : 정규화\n",
    "import time                                 # 호출 1초 지연 -> API 차단 방지\n",
    "import plotly.express as px                 # 시각화\n",
    "import plotly.graph_objects as go           # 시각화\n",
    "from plotly.subplots import make_subplots \n",
    "import matplotlib.pyplot as plt  # 시각화\n",
    "import seaborn as sns\n",
    "\n",
    "import pandas as pd\n",
    "import numpy as np\n",
    "from datetime import datetime\n",
    "from tqdm import tqdm\n",
    "\n",
    "import warnings\n",
    "warnings.filterwarnings('ignore')"
   ]
  },
  {
   "cell_type": "code",
   "execution_count": 2,
   "metadata": {},
   "outputs": [],
   "source": [
    "tickers_23 = pd.DataFrame(stock.get_market_ticker_list(\"20230601\"),columns=['23'])\n",
    "tickers_24 = pd.DataFrame(stock.get_market_ticker_list(\"20240603\"),columns=['24'])\n",
    "tic = pd.merge(tickers_23,tickers_24,left_on='23',right_on='24',how='inner')\n",
    "tickers_final = tic['24']\n",
    "tickers_final =pd.DataFrame({'code' :tickers_final})"
   ]
  },
  {
   "cell_type": "code",
   "execution_count": 3,
   "metadata": {},
   "outputs": [
    {
     "name": "stdout",
     "output_type": "stream",
     "text": [
      "KOSPI MDD (Maximum Drawdown): -14.59%\n"
     ]
    }
   ],
   "source": [
    "def calculate_kospi_mdd(start_date, end_date):\n",
    "    # 코스피 지수 데이터를 불러오기\n",
    "    df = stock.get_index_ohlcv_by_date(start_date, end_date, \"1001\")\n",
    "\n",
    "    # 종가 기준으로 누적 최고점 계산\n",
    "    df['Cumulative_Max'] = df['종가'].cummax()\n",
    "\n",
    "    # 각 날짜별 낙폭 계산\n",
    "    df['Drawdown'] = df['종가'] / df['Cumulative_Max'] - 1\n",
    "\n",
    "    # MDD 계산 (낙폭의 최소값)\n",
    "    mdd = df['Drawdown'].min()\n",
    "\n",
    "    return mdd, df\n",
    "\n",
    "# 예시: 코스피 지수의 MDD 계산\n",
    "start_date = \"20230601\"\n",
    "end_date = \"20240603\"\n",
    "\n",
    "mdd, df = calculate_kospi_mdd(start_date, end_date)\n",
    "\n",
    "print(f\"KOSPI MDD (Maximum Drawdown): {mdd * 100:.2f}%\")"
   ]
  },
  {
   "cell_type": "code",
   "execution_count": 4,
   "metadata": {},
   "outputs": [],
   "source": [
    "def calculate_mdd(stock_code, start_date, end_date):\n",
    "    # 주식 데이터 불러오기\n",
    "    df = stock.get_market_ohlcv_by_date(start_date, end_date, stock_code)\n",
    "    \n",
    "    # 종가 기준으로 누적 최고점 계산\n",
    "    df['Cumulative_Max'] = df['종가'].cummax()\n",
    "\n",
    "    # 각 날짜별 낙폭 계산\n",
    "    df['Drawdown'] = df['종가'] / df['Cumulative_Max'] - 1\n",
    "\n",
    "    # MDD 계산 (낙폭의 최소값)\n",
    "    mdd = df['Drawdown'].min()\n",
    "\n",
    "    return mdd#, df\n",
    "\n",
    "\n",
    "start_date = \"20230601\"\n",
    "end_date = \"20240603\"\n",
    "\n",
    "mdd_df = pd.DataFrame(columns=['code','MDD'])\n",
    "for ticker in tickers_final['code']:\n",
    "    mdd = calculate_mdd(ticker, start_date, end_date) #, df \n",
    "    new_row = pd.DataFrame({'code': [ticker], 'MDD': [mdd]})\n",
    "    mdd_df = pd.concat([mdd_df, new_row], ignore_index=True)\n",
    "\n",
    "mdd_df.set_index('code',inplace=True)\n"
   ]
  },
  {
   "cell_type": "code",
   "execution_count": 5,
   "metadata": {},
   "outputs": [],
   "source": [
    "def calculate_annual_mdd(stock_code, start_date, end_date):\n",
    "    # 주가 데이터 불러오기\n",
    "    df = stock.get_market_ohlcv_by_date(start_date, end_date, stock_code)\n",
    "    df = df.reset_index()\n",
    "\n",
    "    # 연도 컬럼 추가\n",
    "    df['Year'] = df['날짜'].dt.year\n",
    "\n",
    "    # 연도별로 MDD 계산\n",
    "    annual_mdds = []\n",
    "\n",
    "    for year, group in df.groupby('Year'):\n",
    "        group['Cumulative_Max'] = group['종가'].cummax()\n",
    "        group['Drawdown'] = group['종가'] / group['Cumulative_Max'] - 1\n",
    "        mdd = group['Drawdown'].min()\n",
    "        annual_mdds.append({'Year': year, 'MDD': mdd * 100})\n",
    "\n",
    "    # 결과를 데이터프레임으로 변환\n",
    "    mdd_df = pd.DataFrame(annual_mdds)\n",
    "    \n",
    "    return mdd_df\n",
    "\n",
    "# 예시: 삼성전자(005930)의 연간 MDD 계산\n",
    "stock_code = \"005930\"  # 삼성전자 종목 코드\n",
    "start_date = \"20190101\"\n",
    "end_date = \"20231231\"\n",
    "\n",
    "mdd_df = calculate_annual_mdd(stock_code, start_date, end_date)"
   ]
  },
  {
   "cell_type": "code",
   "execution_count": 6,
   "metadata": {},
   "outputs": [
    {
     "name": "stdout",
     "output_type": "stream",
     "text": [
      "   Year        MDD\n",
      "0  2019 -15.072288\n",
      "1  2020 -35.708898\n",
      "2  2021 -14.105004\n",
      "3  2022 -27.891705\n",
      "4  2023 -14.588294\n"
     ]
    }
   ],
   "source": [
    "def calculate_market_annual_mdd(start_date, end_date):\n",
    "    # 코스피 지수 데이터를 불러오기\n",
    "    df = stock.get_index_ohlcv_by_date(start_date, end_date, \"1001\")  # 1001은 KOSPI 지수 코드\n",
    "    df = df.reset_index()\n",
    "\n",
    "    # 연도 컬럼 추가\n",
    "    df['Year'] = df['날짜'].dt.year\n",
    "\n",
    "    # 연도별로 MDD 계산\n",
    "    annual_mdds = []\n",
    "\n",
    "    for year, group in df.groupby('Year'):\n",
    "        group['Cumulative_Max'] = group['종가'].cummax()\n",
    "        group['Drawdown'] = group['종가'] / group['Cumulative_Max'] - 1\n",
    "        mdd = group['Drawdown'].min()\n",
    "        annual_mdds.append({'Year': year, 'MDD': mdd * 100})\n",
    "\n",
    "    # 결과를 데이터프레임으로 변환\n",
    "    mdd_df = pd.DataFrame(annual_mdds)\n",
    "    \n",
    "    return mdd_df\n",
    "\n",
    "# 예시: 코스피 지수의 연간 MDD 계산\n",
    "start_date = \"20190101\"\n",
    "end_date = \"20231231\"\n",
    "\n",
    "mdd_df = calculate_market_annual_mdd(start_date, end_date)\n",
    "\n",
    "# 결과 출력\n",
    "print(mdd_df)"
   ]
  },
  {
   "cell_type": "code",
   "execution_count": null,
   "metadata": {},
   "outputs": [],
   "source": []
  }
 ],
 "metadata": {
  "kernelspec": {
   "display_name": "Python 3",
   "language": "python",
   "name": "python3"
  },
  "language_info": {
   "codemirror_mode": {
    "name": "ipython",
    "version": 3
   },
   "file_extension": ".py",
   "mimetype": "text/x-python",
   "name": "python",
   "nbconvert_exporter": "python",
   "pygments_lexer": "ipython3",
   "version": "3.11.5"
  }
 },
 "nbformat": 4,
 "nbformat_minor": 2
}
