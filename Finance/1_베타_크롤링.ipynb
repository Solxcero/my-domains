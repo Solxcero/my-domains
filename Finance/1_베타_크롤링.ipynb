{
 "cells": [
  {
   "cell_type": "code",
   "execution_count": 1,
   "metadata": {},
   "outputs": [],
   "source": [
    "import numpy as np \n",
    "import requests\n",
    "from bs4 import BeautifulSoup\n",
    "import time\n",
    "from pykrx import stock\n",
    "import pandas as pd"
   ]
  },
  {
   "cell_type": "code",
   "execution_count": 11,
   "metadata": {},
   "outputs": [],
   "source": [
    "def get_beta_all(date,num):\n",
    "    # 날짜 매개변수 없어도 되지만 있어야 조금 더 빨리 불러올 수 있음\n",
    "    \n",
    "    tickers = stock.get_market_ticker_list(str(date))\n",
    "    # tickers = stock.get_market_ticker_list()\n",
    "    tickers = tickers[:num]\n",
    "    beta_lst= []\n",
    "    for number1 in tickers:\n",
    "        url = 'https://navercomp.wisereport.co.kr/v2/company/c1010001.aspx?cmp_cd='+number1\n",
    "        res = requests.get(url)\n",
    "        res.raise_for_status()\n",
    "        soup = BeautifulSoup(res.text,'html.parser')\n",
    "        section = soup.find('tbody')\n",
    "        part = section.find_all('td',class_=\"num\")\n",
    "        beta = part[5].get_text().strip()\n",
    "        beta_lst.append(beta)\n",
    "        \n",
    "        time.sleep(1)\n",
    "        # break; \n",
    "    dt = pd.DataFrame({'beta':beta_lst})\n",
    "    dt.index  = tickers\n",
    "    return dt\n"
   ]
  },
  {
   "cell_type": "code",
   "execution_count": 28,
   "metadata": {},
   "outputs": [
    {
     "data": {
      "text/html": [
       "<div>\n",
       "<style scoped>\n",
       "    .dataframe tbody tr th:only-of-type {\n",
       "        vertical-align: middle;\n",
       "    }\n",
       "\n",
       "    .dataframe tbody tr th {\n",
       "        vertical-align: top;\n",
       "    }\n",
       "\n",
       "    .dataframe thead th {\n",
       "        text-align: right;\n",
       "    }\n",
       "</style>\n",
       "<table border=\"1\" class=\"dataframe\">\n",
       "  <thead>\n",
       "    <tr style=\"text-align: right;\">\n",
       "      <th></th>\n",
       "      <th>095570</th>\n",
       "      <th>006840</th>\n",
       "      <th>027410</th>\n",
       "      <th>282330</th>\n",
       "      <th>138930</th>\n",
       "      <th>001460</th>\n",
       "      <th>001465</th>\n",
       "      <th>001040</th>\n",
       "      <th>079160</th>\n",
       "      <th>00104K</th>\n",
       "    </tr>\n",
       "  </thead>\n",
       "  <tbody>\n",
       "    <tr>\n",
       "      <th>beta</th>\n",
       "      <td>0.86</td>\n",
       "      <td>1.52</td>\n",
       "      <td>1.28</td>\n",
       "      <td>-0.46</td>\n",
       "      <td>0.87</td>\n",
       "      <td>0.63</td>\n",
       "      <td>0.63</td>\n",
       "      <td>0.60</td>\n",
       "      <td>1.41</td>\n",
       "      <td>0.60</td>\n",
       "    </tr>\n",
       "  </tbody>\n",
       "</table>\n",
       "</div>"
      ],
      "text/plain": [
       "     095570 006840 027410 282330 138930 001460 001465 001040 079160 00104K\n",
       "beta   0.86   1.52   1.28  -0.46   0.87   0.63   0.63   0.60   1.41   0.60"
      ]
     },
     "execution_count": 28,
     "metadata": {},
     "output_type": "execute_result"
    }
   ],
   "source": [
    "get_beta_all(20221028,10).T"
   ]
  },
  {
   "cell_type": "code",
   "execution_count": 26,
   "metadata": {},
   "outputs": [],
   "source": [
    "def get_beta_one(*tick,type='df'):\n",
    "    beta_lst = []\n",
    "    for i in tick:\n",
    "        url = 'https://navercomp.wisereport.co.kr/v2/company/c1010001.aspx?cmp_cd='+i\n",
    "        res = requests.get(url)\n",
    "        # res.raise_for_status()\n",
    "        soup = BeautifulSoup(res.text,'html.parser')\n",
    "        section = soup.find('tbody')\n",
    "        part = section.find_all('td',class_=\"num\")\n",
    "        beta = part[5].get_text().strip()\n",
    "        # print(beta)\n",
    "        beta_lst.append(beta)\n",
    "        time.sleep(1)\n",
    "        # break; \n",
    "    if type == 'list':\n",
    "        return beta_lst\n",
    "    if type == 'df':\n",
    "        return pd.DataFrame(beta_lst,index=tick,columns={'beta'})\n"
   ]
  },
  {
   "cell_type": "code",
   "execution_count": 27,
   "metadata": {},
   "outputs": [
    {
     "data": {
      "text/html": [
       "<div>\n",
       "<style scoped>\n",
       "    .dataframe tbody tr th:only-of-type {\n",
       "        vertical-align: middle;\n",
       "    }\n",
       "\n",
       "    .dataframe tbody tr th {\n",
       "        vertical-align: top;\n",
       "    }\n",
       "\n",
       "    .dataframe thead th {\n",
       "        text-align: right;\n",
       "    }\n",
       "</style>\n",
       "<table border=\"1\" class=\"dataframe\">\n",
       "  <thead>\n",
       "    <tr style=\"text-align: right;\">\n",
       "      <th></th>\n",
       "      <th>beta</th>\n",
       "    </tr>\n",
       "  </thead>\n",
       "  <tbody>\n",
       "    <tr>\n",
       "      <th>005930</th>\n",
       "      <td>0.82</td>\n",
       "    </tr>\n",
       "    <tr>\n",
       "      <th>035720</th>\n",
       "      <td>1.34</td>\n",
       "    </tr>\n",
       "  </tbody>\n",
       "</table>\n",
       "</div>"
      ],
      "text/plain": [
       "        beta\n",
       "005930  0.82\n",
       "035720  1.34"
      ]
     },
     "execution_count": 27,
     "metadata": {},
     "output_type": "execute_result"
    }
   ],
   "source": [
    "get_beta_one('005930','035720')"
   ]
  },
  {
   "cell_type": "code",
   "execution_count": 25,
   "metadata": {},
   "outputs": [
    {
     "data": {
      "text/plain": [
       "['0.53']"
      ]
     },
     "execution_count": 25,
     "metadata": {},
     "output_type": "execute_result"
    }
   ],
   "source": [
    "get_beta_one('194700',type='list') #노바렉스"
   ]
  },
  {
   "cell_type": "code",
   "execution_count": 26,
   "metadata": {},
   "outputs": [
    {
     "data": {
      "text/plain": [
       "['0.65']"
      ]
     },
     "execution_count": 26,
     "metadata": {},
     "output_type": "execute_result"
    }
   ],
   "source": [
    "get_beta_one('00104K')"
   ]
  }
 ],
 "metadata": {
  "kernelspec": {
   "display_name": "Python 3",
   "language": "python",
   "name": "python3"
  },
  "language_info": {
   "codemirror_mode": {
    "name": "ipython",
    "version": 3
   },
   "file_extension": ".py",
   "mimetype": "text/x-python",
   "name": "python",
   "nbconvert_exporter": "python",
   "pygments_lexer": "ipython3",
   "version": "3.6.8 (tags/v3.6.8:3c6b436a57, Dec 24 2018, 00:16:47) [MSC v.1916 64 bit (AMD64)]"
  },
  "orig_nbformat": 4,
  "vscode": {
   "interpreter": {
    "hash": "8a5edab282632443219e051e4ade2d1d5bbc671c781051bf1437897cbdfea0f1"
   }
  }
 },
 "nbformat": 4,
 "nbformat_minor": 2
}
